{
  "cells": [
    {
      "cell_type": "code",
      "execution_count": null,
      "metadata": {
        "colab": {
          "base_uri": "https://localhost:8080/"
        },
        "id": "lG9_muWYdG2J",
        "outputId": "9d3616c9-ff78-4277-e3f5-c1c65bfe7953"
      },
      "outputs": [
        {
          "name": "stdout",
          "output_type": "stream",
          "text": [
            "Requirement already satisfied: PyMuPDF==1.23.5 in /usr/local/lib/python3.11/dist-packages (1.23.5)\n",
            "Requirement already satisfied: PyMuPDFb==1.23.5 in /usr/local/lib/python3.11/dist-packages (from PyMuPDF==1.23.5) (1.23.5)\n"
          ]
        }
      ],
      "source": [
        "pip install PyMuPDF==1.23.5"
      ]
    },
    {
      "cell_type": "markdown",
      "metadata": {
        "id": "oCXOdoV3l3se"
      },
      "source": [
        "Code for test(3) 1.pdf"
      ]
    },
    {
      "cell_type": "code",
      "execution_count": 37,
      "metadata": {
        "colab": {
          "base_uri": "https://localhost:8080/"
        },
        "id": "tx9GCq1Ndegw",
        "outputId": "1c1cc99b-87ec-4d11-8556-3c08336586e8"
      },
      "outputs": [
        {
          "name": "stdout",
          "output_type": "stream",
          "text": [
            "Processing test3.pdf...\n",
            "Tables saved to test3_tables.xlsx\n"
          ]
        }
      ],
      "source": [
        "import fitz\n",
        "import pandas as pd\n",
        "import os\n",
        "\n",
        "def detect_tables(page):\n",
        "\n",
        "    blocks = page.get_text(\"dict\")[\"blocks\"]\n",
        "    lines = []\n",
        "    for block in blocks:\n",
        "        if \"lines\" in block:\n",
        "            for line in block[\"lines\"]:\n",
        "                for span in line[\"spans\"]:\n",
        "                    x0, y0, x1, y1 = span[\"bbox\"]\n",
        "                    text = span[\"text\"].strip()\n",
        "                    if text:\n",
        "                        lines.append({\"text\": text, \"x0\": x0, \"y0\": y0})\n",
        "\n",
        "    rows = {}\n",
        "    for line in lines:\n",
        "        y_key = round(line[\"y0\"], -1)\n",
        "        if y_key not in rows:\n",
        "            rows[y_key] = []\n",
        "        rows[y_key].append(line)\n",
        "\n",
        "    sorted_rows = sorted(rows.items(), key=lambda x: x[0])\n",
        "\n",
        "    tables = []\n",
        "    current_table = []\n",
        "    for y_key, row_lines in sorted_rows:\n",
        "        row_lines.sort(key=lambda x: x[\"x0\"])\n",
        "        row_text = [line[\"text\"] for line in row_lines]\n",
        "\n",
        "        if not current_table or len(row_text) == len(current_table[-1]):\n",
        "            current_table.append(row_text)\n",
        "        else:\n",
        "            if len(current_table) > 1:\n",
        "                tables.append(current_table)\n",
        "            current_table = [row_text]\n",
        "\n",
        "    if len(current_table) > 1:\n",
        "        tables.append(current_table)\n",
        "\n",
        "    return tables\n",
        "\n",
        "def process_pdf(pdf_path):\n",
        "    doc = fitz.open(pdf_path)\n",
        "    all_tables = []\n",
        "\n",
        "    for page_num in range(len(doc)):\n",
        "        page = doc[page_num]\n",
        "        tables = detect_tables(page)\n",
        "        all_tables.extend(tables)\n",
        "\n",
        "    doc.close()\n",
        "    return all_tables\n",
        "\n",
        "def save_to_excel(tables, output_path):\n",
        "    with pd.ExcelWriter(output_path) as writer:\n",
        "        for i, table in enumerate(tables):\n",
        "            df = pd.DataFrame(table)  # Convert table to DataFrame\n",
        "            df.to_excel(writer, sheet_name=f\"Table_{i+1}\", index=False, header=False)\n",
        "\n",
        "def main():\n",
        "\n",
        "    pdf_path = \"test3.pdf\"\n",
        "\n",
        "    if not os.path.exists(pdf_path):\n",
        "        print(f\"Error: {pdf_path} not found.\")\n",
        "        return\n",
        "\n",
        "    print(f\"Processing {pdf_path}...\")\n",
        "    tables = process_pdf(pdf_path)\n",
        "    if not tables:\n",
        "        print(\"No tables detected.\")\n",
        "        return\n",
        "\n",
        "    output_path = pdf_path.replace(\".pdf\", \"_tables.xlsx\")\n",
        "    save_to_excel(tables, output_path)\n",
        "    print(f\"Tables saved to {output_path}\")\n",
        "\n",
        "if __name__ == \"__main__\":\n",
        "    main()"
      ]
    },
    {
      "cell_type": "markdown",
      "metadata": {
        "id": "pNSOxQBUmB9P"
      },
      "source": [
        "Code for test6 (1).pdf"
      ]
    },
    {
      "cell_type": "code",
      "execution_count": 39,
      "metadata": {
        "colab": {
          "base_uri": "https://localhost:8080/"
        },
        "id": "DpJbWseahkrd",
        "outputId": "91b68ad8-1d2d-4753-f366-c6527f2ade4e"
      },
      "outputs": [
        {
          "name": "stdout",
          "output_type": "stream",
          "text": [
            "Data extracted and saved to output.xlsx\n"
          ]
        }
      ],
      "source": [
        "import pdfplumber\n",
        "import pandas as pd\n",
        "import re\n",
        "pdf_path = \"test3.pdf\"\n",
        "\n",
        "\n",
        "data = []\n",
        "\n",
        "with pdfplumber.open(pdf_path) as pdf:\n",
        "    for page in pdf.pages:\n",
        "        extracted_text = page.extract_text()\n",
        "\n",
        "        if extracted_text:\n",
        "\n",
        "            lines = extracted_text.split(\"\\n\")\n",
        "            for line in lines:\n",
        "\n",
        "                cleaned_line = re.sub(r\"cid\\(\\d+\\)\", \"\", line)\n",
        "\n",
        "\n",
        "                columns = list(filter(None, cleaned_line.split(\"  \")))\n",
        "                data.append(columns)\n",
        "\n",
        "\n",
        "df = pd.DataFrame(data)\n",
        "\n",
        "\n",
        "df.to_excel(\"output.xlsx\", index=False, header=False)\n",
        "\n",
        "print(\"Data extracted and saved to output.xlsx\")"
      ]
    },
    {
      "cell_type": "markdown",
      "metadata": {
        "id": "yntxpEoRmJ53"
      },
      "source": [
        "Decrypting output.xlsx\n"
      ]
    },
    {
      "cell_type": "code",
      "execution_count": 40,
      "metadata": {
        "colab": {
          "base_uri": "https://localhost:8080/"
        },
        "id": "uB2dK9N0g6wf",
        "outputId": "8f25db26-5af1-4b06-f22d-e3f174ed8987"
      },
      "outputs": [
        {
          "name": "stdout",
          "output_type": "stream",
          "text": [
            "Structured data saved to cleaned_transactions.xlsx\n"
          ]
        }
      ],
      "source": [
        "import pandas as pd\n",
        "import re\n",
        "\n",
        "\n",
        "input_file = \"output.xlsx\"\n",
        "output_file = \"cleaned_transactions.xlsx\"\n",
        "\n",
        "df = pd.read_excel(input_file, header=None)\n",
        "\n",
        "\n",
        "date_pattern = r\"\\d{2}-[A-Za-z]{3}-\\d{2,4}\"\n",
        "amount_pattern = r\"[\\d,]+\\.\\d{2}\"\n",
        "balance_pattern = r\"\\d{1,3}(?:,\\d{3})*\\.\\d{2}Dr?\"\n",
        "\n",
        "\n",
        "transactions = []\n",
        "\n",
        "\n",
        "for row in df[0]:\n",
        "    match = re.findall(date_pattern, str(row))\n",
        "    if match:\n",
        "        date = match[0]\n",
        "        details = row.split(date)[-1].strip()\n",
        "\n",
        "\n",
        "        transaction_type = \"Unknown\"\n",
        "        if \"Cash\" in details:\n",
        "            transaction_type = \"Cash Deposit\"\n",
        "        elif \"IMPS\" in details or \"UPI\" in details:\n",
        "            transaction_type = \"UPI Transfer\"\n",
        "        elif \"NEFT\" in details:\n",
        "            transaction_type = \"NEFT Transfer\"\n",
        "        elif \"Interest\" in details or \"Int.Coll\" in details:\n",
        "            transaction_type = \"Interest Charged\"\n",
        "        elif \"Lien Reversal\" in details:\n",
        "            transaction_type = \"Lien Reversal\"\n",
        "\n",
        "\n",
        "        amounts = re.findall(amount_pattern, details)\n",
        "        if len(amounts) == 3:\n",
        "            debit, credit, balance = amounts\n",
        "        elif len(amounts) == 2:\n",
        "            debit, credit, balance = amounts[0], \"\", amounts[1]\n",
        "        elif len(amounts) == 1:\n",
        "            debit, credit, balance = \"\", \"\", amounts[0]\n",
        "        else:\n",
        "            debit, credit, balance = \"\", \"\", \"\"\n",
        "\n",
        "\n",
        "        transactions.append([date, transaction_type, details, debit, credit, balance])\n",
        "\n",
        "\n",
        "columns = [\"Date\", \"Transaction Type\", \"Details\", \"Debit (₹)\", \"Credit (₹)\", \"Balance (₹)\"]\n",
        "df_cleaned = pd.DataFrame(transactions, columns=columns)\n",
        "\n",
        "\n",
        "df_cleaned.to_excel(output_file, index=False)\n",
        "\n",
        "print(f\"Structured data saved to {output_file}\")"
      ]
    }
  ],
  "metadata": {
    "colab": {
      "provenance": []
    },
    "kernelspec": {
      "display_name": "Python 3",
      "name": "python3"
    },
    "language_info": {
      "name": "python"
    }
  },
  "nbformat": 4,
  "nbformat_minor": 0
}
